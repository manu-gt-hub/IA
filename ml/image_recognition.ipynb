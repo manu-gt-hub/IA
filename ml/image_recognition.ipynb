{
 "cells": [
  {
   "cell_type": "code",
   "execution_count": null,
   "id": "be5d1135-3950-4f77-84a8-48d07b4d39eb",
   "metadata": {},
   "outputs": [
    {
     "name": "stderr",
     "output_type": "stream",
     "text": [
      "C:\\Users\\MANGUTI\\AppData\\Local\\anaconda3\\envs\\llms\\Lib\\site-packages\\keras\\src\\layers\\convolutional\\base_conv.py:107: UserWarning: Do not pass an `input_shape`/`input_dim` argument to a layer. When using Sequential models, prefer using an `Input(shape)` object as the first layer in the model instead.\n",
      "  super().__init__(activity_regularizer=activity_regularizer, **kwargs)\n"
     ]
    },
    {
     "name": "stdout",
     "output_type": "stream",
     "text": [
      "Epoch 1/10\n",
      "\u001b[1m469/469\u001b[0m \u001b[32m━━━━━━━━━━━━━━━━━━━━\u001b[0m\u001b[37m\u001b[0m \u001b[1m0s\u001b[0m 9ms/step - accuracy: 0.8534 - loss: 0.4907"
     ]
    }
   ],
   "source": [
    "import tensorflow as tf\n",
    "from tensorflow.keras.datasets import mnist\n",
    "from tensorflow.keras.models import Sequential\n",
    "from tensorflow.keras.layers import Dense, Flatten, Conv2D, MaxPooling2D\n",
    "from tensorflow.keras.utils import to_categorical\n",
    "\n",
    "# load MNIST dataset\n",
    "(X_train, y_train), (X_test, y_test) = mnist.load_data()\n",
    "\n",
    "# pre-process data\n",
    "#X_train = X_train.reshape(X_train.shape[0], 28, 28, 1).astype('float32') / 255\n",
    "X_train = X_train.reshape(X_train.shape[0], 28, 28, 1).astype('int16') / 255\n",
    "X_test = X_test.reshape(X_test.shape[0], 28, 28, 1).astype('int16') / 255\n",
    "y_train = to_categorical(y_train, 10)\n",
    "y_test = to_categorical(y_test, 10)\n",
    "\n",
    "# Crear el modelo\n",
    "model = Sequential()\n",
    "model.add(Conv2D(32, kernel_size=(3, 3), activation='relu', input_shape=(28, 28, 1)))\n",
    "model.add(MaxPooling2D(pool_size=(2, 2)))\n",
    "model.add(Conv2D(64, kernel_size=(3, 3), activation='relu'))\n",
    "model.add(MaxPooling2D(pool_size=(2, 2)))\n",
    "model.add(Flatten())\n",
    "model.add(Dense(128, activation='relu'))\n",
    "model.add(Dense(10, activation='softmax'))\n",
    "\n",
    "# Compilar el modelo\n",
    "model.compile(optimizer='adam', loss='categorical_crossentropy', metrics=['accuracy'])\n",
    "\n",
    "# Entrenar el modelo\n",
    "    # model.fit: Entrena el modelo.\n",
    "    # X_train, y_train: Datos de entrenamiento (características y etiquetas).\n",
    "    # epochs=10: El modelo pasará por todo el conjunto de datos de entrenamiento 10 veces.\n",
    "    # batch_size=128: Los datos se procesan en grupos de 128 muestras a la vez.\n",
    "    # validation_data=(X_test, y_test): Usa los datos de prueba para evaluar el rendimiento del modelo después de cada epoch.\n",
    "model.fit(X_train, y_train, epochs=10, batch_size=128, validation_data=(X_test, y_test))\n",
    "\n",
    "# Evaluar el modelo\n",
    "loss, accuracy = model.evaluate(X_test, y_test)\n",
    "print(f'Pérdida en el conjunto de prueba: {loss}')\n",
    "print(f'Precisión en el conjunto de prueba: {accuracy}')"
   ]
  },
  {
   "cell_type": "code",
   "execution_count": null,
   "id": "d05026d7-560e-432e-a505-f6def196f340",
   "metadata": {},
   "outputs": [],
   "source": [
    "import numpy as np\n",
    "import matplotlib.pyplot as plt\n",
    "\n",
    "# Supongamos que tienes una imagen individual llamada `image`\n",
    "# La imagen debe tener el mismo preprocesamiento que las imágenes de entrenamiento\n",
    "# Aquí, simplemente tomamos una imagen del conjunto de prueba como ejemplo\n",
    "\n",
    "image = X_test[0]\n",
    "\n",
    "# Mostrar la imagen\n",
    "plt.imshow(image.reshape(28, 28), cmap='gray')\n",
    "plt.title(\"Imagen a predecir\")\n",
    "plt.show()\n",
    "\n",
    "# Predecir la clase de la imagen\n",
    "image = image.reshape(1, 28, 28, 1)  # Redimensionar para que tenga la forma (1, 28, 28, 1)\n",
    "prediction = model.predict(image)\n",
    "predicted_class = np.argmax(prediction)\n",
    "\n",
    "print(f'El modelo predice que el dígito es: {predicted_class}')"
   ]
  }
 ],
 "metadata": {
  "kernelspec": {
   "display_name": "Python 3 (ipykernel)",
   "language": "python",
   "name": "python3"
  },
  "language_info": {
   "codemirror_mode": {
    "name": "ipython",
    "version": 3
   },
   "file_extension": ".py",
   "mimetype": "text/x-python",
   "name": "python",
   "nbconvert_exporter": "python",
   "pygments_lexer": "ipython3",
   "version": "3.11.11"
  }
 },
 "nbformat": 4,
 "nbformat_minor": 5
}
