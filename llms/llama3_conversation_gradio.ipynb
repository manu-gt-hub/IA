{
 "cells": [
  {
   "cell_type": "code",
   "execution_count": 1,
   "id": "c1ba1d92-0e5e-49c0-915f-a9119324e16c",
   "metadata": {},
   "outputs": [],
   "source": [
    "import ollama"
   ]
  },
  {
   "cell_type": "code",
   "execution_count": 2,
   "id": "62bcd43b-44ce-41d2-9abc-b5796948f2a0",
   "metadata": {},
   "outputs": [],
   "source": [
    "def print_conversation(conversation):\n",
    "    for interaction in conversation:\n",
    "        print(interaction)"
   ]
  },
  {
   "cell_type": "code",
   "execution_count": 3,
   "id": "07a16535-e939-49bb-995a-797496e9a952",
   "metadata": {},
   "outputs": [],
   "source": [
    "class LLM:\n",
    "    def __init__(self, name, role_prompt):\n",
    "\n",
    "        role_prompt+=\", and you limit your answers up to 20 words\"\n",
    "        \n",
    "        # Initialize LLM object\n",
    "        self.name = name\n",
    "        self.conversation = [{'role': 'system', 'content': role_prompt}]\n",
    "        \n",
    "    def interact_with_llm(self,message):\n",
    "        # print the interaction message\n",
    "        # print(llm.name+ \" - says: \"+message+\"\\n\")\n",
    "\n",
    "        # append the received message to the conversation\n",
    "        self.conversation.append({\"role\": \"user\", \"content\": message})\n",
    "\n",
    "        # send the whole conversation to Llama 3.2\n",
    "        # remember the whole conversation travels on every interaction\n",
    "        response = ollama.chat(model='llama3.2', messages=self.conversation)\n",
    "\n",
    "        # get response from Llama 3.2 model\n",
    "        response_message = response['message']['content']\n",
    "\n",
    "        # also append this message to the conversation\n",
    "        self.conversation.append({\"role\": \"system\", \"content\": response_message})\n",
    "\n",
    "        return response_message"
   ]
  },
  {
   "cell_type": "code",
   "execution_count": 4,
   "id": "5da20798-92d5-4726-b2f8-c1b31dfa23ae",
   "metadata": {},
   "outputs": [],
   "source": [
    "def start_conversation(interactions, llm1_name, llm1_prompt,llm2_name,llm2_prompt):\n",
    "\n",
    "    interactions = int(interactions)\n",
    "    interaction_answers = \"\"\n",
    "\n",
    "    # create the LLM objects and initialize them\n",
    "    llm1 = LLM(llm1_name, llm1_prompt)\n",
    "    llm2 = LLM(llm2_name, llm2_prompt)\n",
    "\n",
    "    for i in range(interactions):\n",
    "
