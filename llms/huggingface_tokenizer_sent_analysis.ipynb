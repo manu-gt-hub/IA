{
 "cells": [
  {
   "cell_type": "code",
   "execution_count": null,
   "id": "447cce2d-da51-4432-b178-6eeaca5dbbc3",
   "metadata": {},
   "outputs": [],
   "source": [
    "import requests\n",
    "from transformers import pipeline\n",
    "from huggingface_hub import configure_http_backend\n",
    "import os\n",
    "from huggingface_hub import login\n",
    "from transformers import AutoTokenizer\n",
    "import warnings\n",
    "from dotenv import load_dotenv\n"
   ]
  },
  {
   "cell_type": "code",
   "execution_count": 17,
   "id": "4cbf1127-4a3c-4ed2-9a58-656ca4902f8d",
   "metadata": {},
   "outputs": [],
   "source": [
    "# GET NEW FROM SCRAPPING"
   ]
  },
  {
   "cell_type": "code",
   "execution_count": null,
   "id": "1ee56f0f-7f61-439f-bda7-b101eadd0ca6",
   "metadata": {},
   "outputs": [],
   "source": [
    "new = (\n",
    "\"La amenaza de aranceles de Trump al vino europeo desata la alarma en el sector\"\n",
    "\"Guerra comercial\"\n",
    "\"EE.UU. amaga con tasas del 200%; Catalunya y Andalucía, entre las grandes perjudicadas\"\n",
    ")"
   ]
  },
  {
   "cell_type": "code",
   "execution_count": null,
   "id": "c083ddd2-2fb1-4203-9adc-eeec9a7fab4c",
   "metadata": {},
   "outputs": [],
   "source": [
    "# SENTIMENT ANALYSIS"
   ]
  },
  {
   "cell_type": "code",
   "execution_count": 11,
   "id": "f529f1ef-7399-4dc8-a940-54f53d49ef62",
   "metadata": {},
   "outputs": [
    {
     "name": "stderr",
     "output_type": "stream",
     "text": [
      "C:\\Users\\MANGUTI\\AppData\\Local\\anaconda3\\envs\\llms\\Lib\\site-packages\\urllib3\\connectionpool.py:1097: InsecureRequestWarning: Unverified HTTPS request is being made to host 'huggingface.co'. Adding certificate verification is strongly advised. See: https://urllib3.readthedocs.io/en/latest/advanced-usage.html#tls-warnings\n",
      "  warnings.warn(\n",
      "Device set to use cpu\n"
     ]
    },
    {
     "name": "stdout",
     "output_type": "stream",
     "text": [
      "sentiment analysis:  [{'label': 'NEGATIVE', 'score': 0.9005516767501831}]\n"
     ]
    }
   ],
   "source": [
    "\n",
    "hf_token = os.getenv('TOKEN_HF')\n",
    "\n",
    "def backend_factory() -> requests.Session:\n",
    "    session = requests.Session()\n",
    "    session.verify = False\n",
    "    return session\n",
    "\n",
    "warnings.filterwarnings(\"ignore\")\n",
    "\n",
    "configure_http_backend(backend_factory=backend_factory)\n",
    "\n",
    "# configure classification to classify sentiment\n",
    "classifier = pipeline('sentiment-analysis', model='distilbert-base-uncased-finetuned-sst-2-english')\n",
    "\n",
    "# execute classification\n",
    "sentiment_analysis_result = classifier(new)\n",
    "\n",
    "print(\"sentiment analysis: \",sentiment_analysis_result)"
   ]
  },
  {
   "cell_type": "code",
   "execution_count": null,
   "id": "2c3ec53e-af40-4c94-88f0-67e63730bdb3",
   "metadata": {},
   "outputs": [],
   "source": [
    "# TOKENIZATION"
   ]
  },
  {
   "cell_type": "code",
   "execution_count": null,
   "id": "ac9cdba1-d181-4101-bc46-7be4e29e832f",
   "metadata": {},
   "outputs": [],
   "source": [
    "# Load phi3 tokenization model\n",
    "tokenizer = AutoTokenizer.from_pretrained(\"bert-base-uncased\")\n",
    "\n",
    "# phrase to tok\n",
    "texto = \"en Denia esta lloviendo ahora mismo\"\n",
    "\n",
    "# Tokenizar el texto\n",
    "tokens = tokenizer(texto)['input_ids']\n",
    "print(\"token IDs: \",tokens)\n",
    "print()\n",
    "\n",
    "frase_original = tokenizer.decode(tokens)\n",
    "\n",
    "# Mostrar la frase original\n",
    "print(\"original sentence: \"+frase_original)\n",
    "print()\n",
    "\n",
    "vocabulario = tokenizer.get_vocab()\n",
    "\n",
    "# Mostrar el tamaño del vocabulario y algunos ejemplos\n",
    "print(f\"Tokenizer Vocab: {len(vocabulario)}\")\n",
    "print(\"Some vocabulary examples:\")\n",
    "for palabra, indice in list(vocabulario.items())[:10]:\n",
    "    print(f\"{palabra}: {indice}\")"
   ]
  }
 ],
 "metadata": {
  "kernelspec": {
   "display_name": "Python 3 (ipykernel)",
   "language": "python",
   "name": "python3"
  },
  "language_info": {
   "codemirror_mode": {
    "name": "ipython",
    "version": 3
   },
   "file_extension": ".py",
   "mimetype": "text/x-python",
   "name": "python",
   "nbconvert_exporter": "python",
   "pygments_lexer": "ipython3",
   "version": "3.11.11"
  }
 },
 "nbformat": 4,
 "nbformat_minor": 5
}
