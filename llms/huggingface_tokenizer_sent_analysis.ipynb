{
 "cells": [
  {
   "cell_type": "code",
   "execution_count": 1,
   "id": "447cce2d-da51-4432-b178-6eeaca5dbbc3",
   "metadata": {},
   "outputs": [],
   "source": [
    "import requests\n",
    "from transformers import pipeline\n",
    "from huggingface_hub import configure_http_backend\n",
    "import os\n",
    "from huggingface_hub import login\n",
    "from transformers import AutoTokenizer\n",
    "import warnings\n",
    "from dotenv import load_dotenv\n",
    "import tensorflow as tf"
   ]
  },
  {
   "cell_type": "code",
   "execution_count": 2,
   "id": "de6fe8a7-d004-4955-bd0f-3c2215538cf9",
   "metadata": {},
   "outputs": [],
   "source": [
    "# Disable SSL warnings (optional but not recommended in production)\n",
    "warnings.filterwarnings(\"ignore\")\n",
    "\n",
    "def backend_factory() -> requests.Session:\n",
    "    session = requests.Session()\n",
    "    session.verify = False\n",
    "    return session\n",
    "\n",
    "configure_http_backend(backend_factory=backend_factory)\n",
    "\n",
    "os.environ['TF_CPP_MIN_LOG_LEVEL'] = '3'\n",
    "\n",
    "tf.get_logger().setLevel('ERROR')"
   ]
  },
  {
   "cell_type": "code",
   "execution_count": 3,
   "id": "4cbf1127-4a3c-4ed2-9a58-656ca4902f8d",
   "metadata": {},
   "outputs": [],
   "source": [
    "# GET NEW FROM SCRAPPING"
   ]
  },
  {
   "cell_type": "code",
   "execution_count": 4,
   "id": "1ee56f0f-7f61-439f-bda7-b101eadd0ca6",
   "metadata": {},
   "outputs": [],
   "source": [
    "new = (\n",
    "\"La amenaza de aranceles de Trump al vino europeo desata la alarma en el sector\"\n",
    "\"Guerra comercial\"\n",
    "\"EE.UU. amaga con tasas del 200%; Catalunya y Andalucía, entre las grandes perjudicadas\"\n",
    ")"
   ]
  },
  {
   "cell_type": "code",
   "execution_count": 5,
   "id": "c083ddd2-2fb1-4203-9adc-eeec9a7fab4c",
   "metadata": {},
   "outputs": [],
   "source": [
    "# SENTIMENT ANALYSIS"
   ]
  },
  {
   "cell_type": "code",
   "execution_count": 6,
   "id": "f529f1ef-7399-4dc8-a940-54f53d49ef62",
   "metadata": {},
   "outputs": [
    {
     "name": "stderr",
     "output_type": "stream",
     "text": [
      "Device set to use cpu\n"
     ]
    },
    {
     "name": "stdout",
     "output_type": "stream",
     "text": [
      "sentiment analysis:  [{'label': 'NEGATIVE', 'score': 0.9005516767501831}]\n"
     ]
    }
   ],
   "source": [
    "\n",
    "hf_token = os.getenv('TOKEN_HF')\n",
    "\n",
    "# configure classification to classify sentiment\n",
    "classifier = pipeline('sentiment-analysis', model='distilbert-base-uncased-finetuned-sst-2-english')\n",
    "\n",
    "# execute classification\n",
    "sentiment_analysis_result = classifier(new)\n",
    "\n",
    "print(\"sentiment analysis: \",sentiment_analysis_result)"
   ]
  },
  {
   "cell_type": "code",
   "execution_count": 7,
   "id": "2c3ec53e-af40-4c94-88f0-67e63730bdb3",
   "metadata": {},
   "outputs": [],
   "source": [
    "# TOKENIZATION"
   ]
  },
  {
   "cell_type": "code",
   "execution_count": 8,
   "id": "ac9cdba1-d181-4101-bc46-7be4e29e832f",
   "metadata": {},
   "outputs": [
    {
     "name": "stdout",
     "output_type": "stream",
     "text": [
      "token IDs:  [101, 2474, 2572, 8189, 4143, 2139, 19027, 5897, 4244, 2139, 8398, 2632, 19354, 2080, 2885, 2080, 4078, 6790, 2474, 8598, 2050, 4372, 3449, 4753, 9077, 11335, 2272, 11890, 4818, 4402, 1012, 1057, 2226, 1012, 25933, 3654, 9530, 11937, 20939, 3972, 3263, 1003, 1025, 4937, 2389, 4609, 3148, 1061, 1998, 2389, 14194, 2401, 1010, 4372, 7913, 5869, 9026, 2015, 2566, 9103, 14808, 8447, 2015, 102]\n",
      "\n",
      "original sentence: [CLS] la amenaza de aranceles de trump al vino europeo desata la alarma en el sectorguerra comercialee. uu. amaga con tasas del 200 % ; catalunya y andalucia, entre las grandes perjudicadas [SEP]\n",
      "\n",
      "Tokenizer Vocab: 30522\n",
      "Some vocabulary examples:\n",
      "compressed: 16620\n",
      "kara: 13173\n",
      "undertake: 16617\n",
      "##ducted: 29510\n",
      "##ded: 5732\n",
      "##hc: 16257\n",
      "joker: 19318\n",
      "##head: 4974\n",
      "krishna: 10871\n",
      "neck: 3300\n"
     ]
    }
   ],
   "source": [
    "# Load phi3 tokenization model\n",
    "tokenizer = AutoTokenizer.from_pretrained(\"bert-base-uncased\")\n",
    "\n",
    "# phrase to tokenize\n",
    "texto = new\n",
    "\n",
    "# tokenize the text and get input ids\n",
    "tokens = tokenizer(texto)['input_ids']\n",
    "print(\"token IDs: \",tokens)\n",
    "print()\n",
    "\n",
    "frase_original = tokenizer.decode(tokens)\n",
    "\n",
    "# show original text\n",
    "print(\"original sentence: \"+frase_original)\n",
    "print()\n",
    "\n",
    "vocabulario = tokenizer.get_vocab()\n",
    "\n",
    "# show vocabulary\n",
    "print(f\"Tokenizer Vocab: {len(vocabulario)}\")\n",
    "print(\"Some vocabulary examples:\")\n",
    "for palabra, indice in list(vocabulario.items())[:10]:\n",
    "    print(f\"{palabra}: {indice}\")"
   ]
  }
 ],
 "metadata": {
  "kernelspec": {
   "display_name": "Python 3 (ipykernel)",
   "language": "python",
   "name": "python3"
  },
  "language_info": {
   "codemirror_mode": {
    "name": "ipython",
    "version": 3
   },
   "file_extension": ".py",
   "mimetype": "text/x-python",
   "name": "python",
   "nbconvert_exporter": "python",
   "pygments_lexer": "ipython3",
   "version": "3.11.11"
  }
 },
 "nbformat": 4,
 "nbformat_minor": 5
}
