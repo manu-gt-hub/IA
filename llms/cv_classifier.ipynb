{
 "cells": [
  {
   "cell_type": "code",
   "execution_count": 1,
   "id": "78532789-97ed-48db-91ce-2cd4ad13b8a3",
   "metadata": {},
   "outputs": [],
   "source": [
    "import requests\n",
    "from bs4 import BeautifulSoup\n",
    "import ollama\n",
    "from IPython.display import Markdown, display\n",
    "import pdfplumber\n",
    "from docx import Document\n",
    "import pprint\n",
    "\n",
    "job_desc_url = 'https://fst-confluence.dot.app.corpintra.net/display/AGORA/Job+description'\n"
   ]
  },
  {
   "cell_type": "code",
   "execution_count": 2,
   "id": "b4f23468-20ea-407e-ac85-cc8e2cf6f226",
   "metadata": {},
   "outputs": [],
   "source": [
    "\n",
    "\n",
    "# Función para leer el contenido de un archivo .docx\n",
    "def read_docx(cv_path):\n",
    "    try:\n",
    "        # Cargar el documento\n",
    "        doc = Document(cv_path)\n",
    "        \n",
    "        # Leer el contenido del documento\n",
    "        contenido = []\n",
    "        for parrafo in doc.paragraphs:\n",
    "            contenido.append(parrafo.text)\n",
    "        \n",
    "        return '\\n'.join(contenido)\n",
    "    except:\n",
    "        return None\n",
    "\n",
    "def read_doc(cv_path):\n",
    "    try:\n",
    "        # Inicializar la aplicación de Word\n",
    "        word = win32com.client.Dispatch(\"Word.Application\")\n",
    "        word.Visible = False\n",
    "        \n",
    "        # Abrir el documento\n",
    "        doc = word.Documents.Open(cv_path)\n",
    "        \n",
    "        # Leer el contenido del documento\n",
    "        contenido = doc.Content.Text\n",
    "        \n",
    "        # Cerrar el documento y la aplicación de Word\n",
    "        doc.Close(False)\n",
    "        word.Quit()\n",
    "        \n",
    "        return contenido\n",
    "    except:\n",
    "        return None\n",
    "\n",
    "def read_pdf(pdf_path):\n",
    "    text = \"\"\n",
    "    try:\n",
    "        with pdfplumber.open(pdf_path) as pdf:\n",
    "            for page in pdf.pages:\n",
    "                text += page.extract_text()\n",
    "        return text\n",
    "    except:\n",
    "        return None\n",
    "\n",
    "def extract_text_from_cv(cv_path):\n",
    "    cv_text = read_pdf(cv_path)\n",
    "    if cv_text is None:\n",
    "        cv_text = read_docx(cv_path)\n",
    "        if cv_text is None:\n",
    "            cv_text =read_doc(cv_path)\n",
    "\n",
    "    return cv_text\n",
    "\n",
    "\n",
    "def get_job_description(url):\n",
    "    class_name = 'wiki-content'\n",
    "    # Hacer la solicitud HTTP\n",
    "    response = requests.get(url, verify = False)\n",
    "    \n",
    "    # Verificar que la solicitud fue exitosa\n",
    "    if response.status_code == 200:\n",
    "        # Analizar el contenido HTML\n",
    "        soup = BeautifulSoup(response.content, 'html.parser')\n",
    "        \n",
    "        # Encontrar todos los elementos con la clase especificada\n",
    "        elements = soup.find_all(class_=class_name)\n",
    "        \n",
    "        # Extraer el texto de esos elementos\n",
    "        text = '\\n'.join([element.get_text(separator='\\n').strip() for element in elements])\n",
    "        return text\n",
    "    else:\n",
    "        return f\"Error: Unable to fetch the page. Status code: {response.status_code}\""
   ]
  },
  {
   "cell_type": "code",
   "execution_count": 3,
   "id": "3430549e-7dd9-4de9-8d28-ea5163613c53",
   "metadata": {},
   "outputs": [
    {
     "name": "stderr",
     "output_type": "stream",
     "text": [
      "C:\\Users\\MANGUTI\\AppData\\Local\\anaconda3\\envs\\llms\\Lib\\site-packages\\urllib3\\connectionpool.py:1097: InsecureRequestWarning: Unverified HTTPS request is being made to host 'fst-confluence.dot.app.corpintra.net'. Adding certificate verification is strongly advised. See: https://urllib3.readthedocs.io/en/latest/advanced-usage.html#tls-warnings\n",
      "  warnings.warn(\n",
      "CropBox missing from /Page, defaulting to MediaBox\n",
      "CropBox missing from /Page, defaulting to MediaBox\n",
      "CropBox missing from /Page, defaulting to MediaBox\n",
      "CropBox missing from /Page, defaulting to MediaBox\n",
      "CropBox missing from /Page, defaulting to MediaBox\n",
      "CropBox missing from /Page, defaulting to MediaBox\n"
     ]
    }
   ],
   "source": [
    "roles = [\"data engineer\",\"full stack developer\",\"machine learning engineer\",\"data scientist\"]\n",
    "seniority_dict = {\n",
    "    \"senior\" : \"more than 4 years of experience in total\",\n",
    "    \"mid-senior\" : \"between 2 and 4 years of experience in total\",\n",
    "    \"junior\" : \"between 0 and 2 years of experience in total\"\n",
    "}\n",
    "\n",
    "import os\n",
    "\n",
    "# Especifica el directorio que quieres iterar\n",
    "directorio = './resources/cvs_landing'\n",
    "\n",
    "job_desc_text = get_job_description(job_desc_url)\n",
    "responses_dict = {}\n",
    "\n",
    "# Itera sobre los archivos en el directorio\n",
    "for nombre_archivo in os.listdir(directorio):\n",
    "    ruta_archivo = os.path.join(directorio, nombre_archivo)\n",
    "    if os.path.isfile(ruta_archivo):\n",
    "        cv_text = extract_text_from_cv(ruta_archivo)\n",
    "        if cv_text is not None:\n",
    "            prompt = (\n",
    "                f\"I want you to classify the following curriculum content: {cv_text} into the role which matches the best among this roles: {roles}, and this job description: {job_desc_text}\"\n",
    "            )\n",
    "            response = ollama.chat(\n",
    "                model=\"llama3.2\",\n",
    "                messages=[\n",
    "                    {\n",
    "                        \"role\": \"system\",\n",
    "                        \"content\": \n",
    "                        f\"you are a curriculum vitae classifier, I want you to answer with ,maximum 40 words, focusing on role of the candidate, percentage of match, seniority, and briefly reasoning your answer. \"\n",
    "                        f\"the answer has to have the following format: role: (set it based on: {roles}), %match: (percentage match), seniority level: (value bewteen the following: {seniority_dict}) (put here years of experience), reason: [reasons]\",\n",
    "                    },\n",
    "                    {\n",
    "                        \"role\": \"user\",\n",
    "                        \"content\": prompt,\n",
    "                    }\n",
    "                ],\n",
    "            )\n",
    "            llm_response = response[\"message\"][\"content\"]\n",
    "            responses_dict[nombre_archivo] = llm_response\n",
    "        else:\n",
    "            responses_dict[nombre_archivo] = \"CV text not accessible\"\n",
    "\n",
    "# info al principio es mas relevante\n",
    "# añadir: tu eres un experto en revisar curriculums (contexto)\n",
    "# no se puede descargar el CV de manera automatica\n",
    "\n",
    "\n"
   ]
  },
  {
   "cell_type": "code",
   "execution_count": 4,
   "id": "11a606ab-544e-47d7-9c62-732f40bb4189",
   "metadata": {},
   "outputs": [
    {
     "data": {
      "text/markdown": [
       "# Respuestas\n",
       "\n",
       "## alan susa.pdf\n",
       "\n",
       "role: Data Engineer, % match: 78%, seniority level: mid-senior (2-4 years of experience), reason: \n",
       "Led migrations and implemented data pipelines; designed ETLs and worked with SQL, cloud technologies, and Spark; lacks senior-level experience but has mid-level skills and experience.\n",
       "\n",
       "## david garcia.doc\n",
       "\n",
       "CV text not accessible\n",
       "\n",
       "## elizabeth smith.docx\n",
       "\n",
       "role: [Data Engineer], % match: 80%, seniority level: junior/mid-senior (1-4 years), reason: The job description highlights expertise in SQL, ETL processes, cloud technologies, and collaboration with Data Scientists, matching the key responsibilities of a Data Engineer.\n",
       "\n",
       "## john smith.pdf\n",
       "\n",
       "role: Data Engineer, % match: 82%, seniority level: Senior, years of experience: more than 4 years, reason: High-level experience in scaling machine learning models, implementing ETL processes, and optimizing performance with Apache Spark and cloud technologies aligns closely with the job requirements.\n",
       "\n"
      ],
      "text/plain": [
       "<IPython.core.display.Markdown object>"
      ]
     },
     "metadata": {},
     "output_type": "display_data"
    }
   ],
   "source": [
    "\n",
    "\n",
    "markdown_str = \"# Respuestas\\n\\n\"\n",
    "for key, value in responses_dict.items():\n",
    "    markdown_str += f\"## {key}\\n\\n{value}\\n\\n\"\n",
    "\n",
    "# Imprimir la cadena de texto en formato Markdown\n",
    "display(Markdown(markdown_str))"
   ]
  },
  {
   "cell_type": "code",
   "execution_count": 7,
   "id": "4060d846-3f9d-4dca-af0f-7318ec4f0188",
   "metadata": {},
   "outputs": [
    {
     "data": {
      "text/markdown": [
       "| File Name | Role and Description |\n",
       "|-----------|-----------------------|\n",
       "| john smith.pdf | role: Data Engineer, % match: 82%, seniority level: Senior, years of experience: more than 4 years, reason: High-level experience in scaling machine learning models, implementing ETL processes, and optimizing performance with Apache Spark and cloud technologies aligns closely with the job requirements. |\n",
       "| alan susa.pdf | role: Data Engineer, % match: 78%, seniority level: mid-senior (2-4 years of experience), reason: Led migrations and implemented data pipelines; designed ETLs and worked with SQL, cloud technologies, and Spark; lacks senior-level experience but has mid-level skills and experience. |\n",
       "| elizabeth smith.docx | role: [Data Engineer], % match: 80%, seniority level: junior/mid-senior (1-4 years), reason: The job description highlights expertise in SQL, ETL processes, cloud technologies, and collaboration with Data Scientists, matching the key responsibilities of a Data Engineer. |\n",
       "| david garcia.doc | CV text not accessible |"
      ],
      "text/plain": [
       "<IPython.core.display.Markdown object>"
      ]
     },
     "metadata": {},
     "output_type": "display_data"
    }
   ],
   "source": [
    "job_position = \"senior data engineer\"\n",
    "\n",
    "\n",
    "response = ollama.chat(\n",
    "model=\"llama3.2\",\n",
    "messages=[\n",
    "    {\n",
    "        \"role\": \"user\",\n",
    "        \"content\": f\"ok now reorder me the following dictionary {responses_dict} from the most interesting candidate to the less for the job description: {job_position}, answer me just with the reordered dictionary ready to be printed with markdown\",\n",
    "    }\n",
    "],\n",
    ")\n",
    "llm_response = response[\"message\"][\"content\"]\n",
    "display(Markdown(llm_response))"
   ]
  },
  {
   "cell_type": "code",
   "execution_count": null,
   "id": "83bb2b37-dccd-4630-85b3-889c4cb8f013",
   "metadata": {},
   "outputs": [],
   "source": []
  }
 ],
 "metadata": {
  "kernelspec": {
   "display_name": "Python 3 (ipykernel)",
   "language": "python",
   "name": "python3"
  },
  "language_info": {
   "codemirror_mode": {
    "name": "ipython",
    "version": 3
   },
   "file_extension": ".py",
   "mimetype": "text/x-python",
   "name": "python",
   "nbconvert_exporter": "python",
   "pygments_lexer": "ipython3",
   "version": "3.11.11"
  }
 },
 "nbformat": 4,
 "nbformat_minor": 5
}
